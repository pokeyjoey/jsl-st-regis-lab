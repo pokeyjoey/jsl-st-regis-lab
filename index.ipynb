{
 "cells": [
  {
   "cell_type": "markdown",
   "metadata": {},
   "source": [
    "# St. Regis Reservations"
   ]
  },
  {
   "cell_type": "markdown",
   "metadata": {},
   "source": [
    "### Introduction\n",
    "\n",
    "The St. Regis is a hotel in New York and they would like to build out their reservation system.  The main task is to keep track of which guests are staying in which rooms.  Let's get started.\n",
    "\n",
    "To submit the code, we'll ask you to copy code from each of the classes into the cell at the end, and then share the colab."
   ]
  },
  {
   "cell_type": "markdown",
   "metadata": {},
   "source": [
    "### Getting Started"
   ]
  },
  {
   "cell_type": "markdown",
   "metadata": {},
   "source": [
    "We'll be working with three different classes.  \n",
    "\n",
    "* `Guest` - A guest is the person making each reservation.  A guest is also the person staying in the room.  For this lab, let's assume that there is only one guest per reservation, and one guest per room.  (Sorry, my house, my rules.)\n",
    "\n",
    "* `Reservation` - A reservation should store a guest, a room, and a `start_day` and `end_day` (which can just be the day of the month -- like 20).  We can ignore the month and year.\n",
    "\n",
    "*  `Room` - A room has a room number, and a `rate` of `premium` or `basic`."
   ]
  },
  {
   "cell_type": "markdown",
   "metadata": {},
   "source": [
    "**Begin by** describing the object relations between the three classes (relations can be described as `has_many` or `belongs_to`/`has_one`).\n",
    "\n",
    "* A guest\n",
    "    * has many...\n",
    "* A reservation\n",
    "* A room "
   ]
  },
  {
   "cell_type": "markdown",
   "metadata": {},
   "source": [
    "### Building the classes"
   ]
  },
  {
   "cell_type": "markdown",
   "metadata": {},
   "source": [
    "Next let's build each of the classes.  We can see that we already have some files created in the `src` directory, and that there is a `store` in the `index.py` file.  Finally, we have loaded the classes into the `console.py` file.\n",
    "\n",
    "1. For each of the Room, Reservation, and Guest classes, make sure that\n",
    "\n",
    "    * each object is added to the store.\n",
    "    * each instance is assigned an id    \n",
    "    \n",
    "For adding instances to the store, use the following pattern\n",
    "```python\n",
    "store = {'guests': {1: <guest instance>, 2: <other guest instance>}}\n",
    "```\n",
    "So in other words, we store the instances of each class as a dictionary, where each keys is an instance ids and each value is the corresponding instance.\n",
    "\n",
    "You do not need to initialize the an instance with the store, instead you can simply access the store as a global variable from anywhere inside of your class.\n",
    "\n",
    "2. For each class, the attributes should be set when initializing each instance.\n",
    "\n",
    "So for example a Guest has a `name`, and we should be able to set this attribute simply by writing `guest = Guest('bob')`, setting the name when initializing.  A room has a `room_number` and a `rate` and we want to initialize it like so `room = Room(400, 'premium')`.\n",
    "\n",
    "Ok, so here are the attributes for each of the classes:\n",
    "\n",
    "* Guest - `name`\n",
    "* Room - `room_number`, `rate`\n",
    "* Reservation - `guest`, `room`, `start_day`, `end_day`\n",
    "\n"
   ]
  },
  {
   "cell_type": "markdown",
   "metadata": {},
   "source": [
    "### Relations\n",
    "\n",
    "Now that the classes are working next let's write out the relations.\n",
    "\n",
    "* Room \n",
    "    * `reservations()` - returns all of the reservations for that room\n",
    "\n",
    "* Guest \n",
    "    * `reservations()` - returns all of the reservations of a guest\n",
    "    * `rooms()` - returns all of the rooms a guest has made reservations for    "
   ]
  },
  {
   "cell_type": "markdown",
   "metadata": {},
   "source": [
    "When done copy code from the Guest, Reservation and Room classes in the cell below."
   ]
  },
  {
   "cell_type": "code",
   "execution_count": null,
   "metadata": {},
   "outputs": [],
   "source": []
  },
  {
   "cell_type": "markdown",
   "metadata": {},
   "source": []
  }
 ],
 "metadata": {
  "kernelspec": {
   "display_name": "Python 3.9.10 64-bit",
   "language": "python",
   "name": "python3"
  },
  "language_info": {
   "name": "python",
   "version": "3.9.10"
  },
  "orig_nbformat": 4,
  "vscode": {
   "interpreter": {
    "hash": "aee8b7b246df8f9039afb4144a1f6fd8d2ca17a180786b69acc140d282b71a49"
   }
  }
 },
 "nbformat": 4,
 "nbformat_minor": 2
}
